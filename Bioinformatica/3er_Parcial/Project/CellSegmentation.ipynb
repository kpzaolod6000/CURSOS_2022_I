{
 "cells": [
  {
   "cell_type": "code",
   "execution_count": null,
   "metadata": {},
   "outputs": [
    {
     "ename": "",
     "evalue": "",
     "output_type": "error",
     "traceback": [
      "\u001b[1;31mLa ejecución de celdas con 'Python 3.10.4 64-bit' requieren el paquete ipykernel.\n",
      "\u001b[1;31mEjecute el siguiente comando para instalar 'ipykernel' en el entorno de Python. comando \n",
      "\u001b[1;31m: 'c:/Users/kpzao/AppData/Local/Programs/Python/Python310/python.exe -m pip install ipykernel -U --user --force-reinstall'"
     ]
    }
   ],
   "source": [
    "# import the cv2 library\n",
    "import cv2\n",
    "\n",
    "# The function cv2.imread() is used to read an image.\n",
    "img_grayscale = cv2.imread('test.jpg',0)\n",
    "\n",
    "# The function cv2.imshow() is used to display an image in a window.\n",
    "cv2.imshow('graycsale image',img_grayscale)\n",
    "\n",
    "# waitKey() waits for a key press to close the window and 0 specifies indefinite loops\n",
    "cv2.waitKey(0)\n",
    "\n",
    "# cv2.destroyAllWindows() simply destroys all the windows we created.\n",
    "cv2.destroyAllWindows()\n",
    "\n",
    "# The function cv2.imwrite() is used to write an image.\n",
    "cv2.imwrite('grayscale.jpg',img_grayscale)"
   ]
  },
  {
   "cell_type": "code",
   "execution_count": null,
   "metadata": {},
   "outputs": [],
   "source": []
  }
 ],
 "metadata": {
  "kernelspec": {
   "display_name": "Python 3.10.4 64-bit",
   "language": "python",
   "name": "python3"
  },
  "language_info": {
   "name": "python",
   "version": "3.10.4"
  },
  "orig_nbformat": 4,
  "vscode": {
   "interpreter": {
    "hash": "e3a50d6a8577d67929e2d458acac387026deebd5f10b6c9ed04228014fd3d910"
   }
  }
 },
 "nbformat": 4,
 "nbformat_minor": 2
}
