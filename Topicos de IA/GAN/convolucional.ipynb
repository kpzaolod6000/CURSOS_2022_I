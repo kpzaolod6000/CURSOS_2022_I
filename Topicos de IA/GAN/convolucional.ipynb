{
 "cells": [
  {
   "cell_type": "code",
   "execution_count": 110,
   "metadata": {},
   "outputs": [],
   "source": [
    "import cv2\n",
    "import numpy as np\n",
    "# Loading source image\n",
    "src_image = cv2.imread(\"apic.jpg\")\n",
    "#src_image = cv2.cvtColor(src_image, cv2.COLOR_BGR2GRAY)\n",
    "\n",
    "# src_image = np.array([\n",
    "#   [1,1,1,0,0,1,1,0,0],\n",
    "#   [0,1,1,1,0,1,1,0,0],\n",
    "#   [0,0,1,1,1,1,1,0,0],\n",
    "#   [0,0,1,1,0,1,1,0,0],\n",
    "#   [0,1,1,0,0,1,1,0,0],\n",
    "#   [0,1,1,0,0,1,1,0,0],\n",
    "#   [0,1,1,0,0,1,1,0,0],\n",
    "#   [0,1,1,0,0,1,1,0,0]\n",
    "# ])\n",
    "# Defining the kernel of size 3x3\n",
    "#[255, 255, 0,0],\n",
    "#[1, 1, 0,0],\n",
    "kernel = np.array([\n",
    "  [25, 25, 0,0],\n",
    "  [25, 25, 0,0],\n",
    "  [25, 25, 0,0],\n",
    "  [25, 25, 0,0]\n",
    "])"
   ]
  },
  {
   "cell_type": "code",
   "execution_count": 111,
   "metadata": {},
   "outputs": [],
   "source": [
    "resulting_image = cv2.filter2D(src_image, -1, kernel)\n",
    " \n",
    "cv2.imshow(\"original image\", src_image)\n",
    "cv2.imshow(\"filter2d image\", resulting_image)\n",
    "#cv2.imwrite(\"Filter2d Sharpened Image.jpg\", resulting_image)\n",
    "cv2.waitKey()\n",
    "cv2.destroyAllWindows()"
   ]
  },
  {
   "cell_type": "code",
   "execution_count": 104,
   "metadata": {},
   "outputs": [
    {
     "name": "stdout",
     "output_type": "stream",
     "text": [
      "[[255 255 255 ...  46 208 255]\n",
      " [255 255 255 ...  49 207 255]\n",
      " [255 255 255 ...  48 208 255]\n",
      " ...\n",
      " [213 213 213 ...  33 166 202]\n",
      " [251 251 251 ...  43 204 247]\n",
      " [255 255 255 ...  41 204 248]]\n"
     ]
    }
   ],
   "source": [
    "print(src_image)"
   ]
  },
  {
   "cell_type": "code",
   "execution_count": 105,
   "metadata": {},
   "outputs": [
    {
     "name": "stdout",
     "output_type": "stream",
     "text": [
      "[[255 255 255 ... 255 255 255]\n",
      " [255 255 255 ... 255 255 255]\n",
      " [255 255 255 ... 255 255 255]\n",
      " ...\n",
      " [255 255 255 ... 255 255 255]\n",
      " [255 255 255 ... 255 255 255]\n",
      " [255 255 255 ... 255 255 255]]\n"
     ]
    }
   ],
   "source": [
    "print(resulting_image)"
   ]
  },
  {
   "cell_type": "code",
   "execution_count": 57,
   "metadata": {},
   "outputs": [
    {
     "name": "stdout",
     "output_type": "stream",
     "text": [
      "[[ 20  20  20 ...  67 229  20]\n",
      " [ 20  20  20 ...  70 228  20]\n",
      " [ 20  20  20 ...  69 229  20]\n",
      " ...\n",
      " [234 234 234 ...  54 187 223]\n",
      " [ 16  16  16 ...  64 225  12]\n",
      " [ 20  20  20 ...  62 225  13]]\n"
     ]
    }
   ],
   "source": [
    "print(src_image+21)"
   ]
  },
  {
   "cell_type": "code",
   "execution_count": 32,
   "metadata": {},
   "outputs": [],
   "source": [
    "import cv2\n",
    "import numpy as np\n",
    "# Loading source image\n",
    "src_image = cv2.imread(\"chica.png\")\n",
    "src_image = cv2.cvtColor(src_image, cv2.COLOR_BGR2GRAY)\n",
    "# Defining the Sobel kernel of size 3x3\n",
    "# kernel = np.array([\n",
    "#   [1/9, 1/9, 1/9],\n",
    "#   [1/9, 1/9, 1/9],\n",
    "#   [1/9, 1/9, 1/9]\n",
    "# ])\n",
    "kernel = np.array([\n",
    "  [0, 1, 0],\n",
    "  [1, -4, 1],\n",
    "  [0, 1, 0],\n",
    "])"
   ]
  },
  {
   "cell_type": "code",
   "execution_count": 33,
   "metadata": {},
   "outputs": [],
   "source": [
    "resulting_image = cv2.filter2D(src_image, -1, kernel)\n",
    " \n",
    "cv2.imshow(\"original image\", src_image)\n",
    "cv2.imshow(\"filter2d image\", resulting_image)\n",
    "#cv2.imwrite(\"Filter2d Sobel Image.jpg\", resulting_image)\n",
    "cv2.waitKey()\n",
    "cv2.destroyAllWindows()"
   ]
  },
  {
   "cell_type": "code",
   "execution_count": null,
   "metadata": {},
   "outputs": [],
   "source": []
  }
 ],
 "metadata": {
  "kernelspec": {
   "display_name": "Python 3.10.4 ('myenvGAN': venv)",
   "language": "python",
   "name": "python3"
  },
  "language_info": {
   "codemirror_mode": {
    "name": "ipython",
    "version": 3
   },
   "file_extension": ".py",
   "mimetype": "text/x-python",
   "name": "python",
   "nbconvert_exporter": "python",
   "pygments_lexer": "ipython3",
   "version": "3.10.4"
  },
  "orig_nbformat": 4,
  "vscode": {
   "interpreter": {
    "hash": "fbfccef15cfc7d1ff7af2abb97346995b9b8658056238a69cde7f784d3ee43bf"
   }
  }
 },
 "nbformat": 4,
 "nbformat_minor": 2
}
